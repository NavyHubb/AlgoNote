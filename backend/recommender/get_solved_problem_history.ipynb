{
 "cells": [
  {
   "cell_type": "code",
   "execution_count": 1,
   "metadata": {},
   "outputs": [],
   "source": [
    "import pymysql;\n",
    "from glob import glob\n",
    "\n",
    "import pandas as pd\n"
   ]
  },
  {
   "cell_type": "code",
   "execution_count": 12,
   "metadata": {},
   "outputs": [
    {
     "data": {
      "text/plain": [
       "9990"
      ]
     },
     "execution_count": 12,
     "metadata": {},
     "output_type": "execute_result"
    }
   ],
   "source": [
    "df = pd.read_csv(\"./all_solved.csv\")\n",
    "\n",
    "\n",
    "id_column = df[\"id\"]\n",
    "\n",
    "id_set = set(id_column)\n",
    "\n",
    "id_dict = { id:idx+1 for idx, id in enumerate(id_set)}\n",
    "\n",
    "len(id_dict)"
   ]
  },
  {
   "cell_type": "code",
   "execution_count": 13,
   "metadata": {},
   "outputs": [
    {
     "name": "stdout",
     "output_type": "stream",
     "text": [
      "           id  solved\n",
      "6544605     1   14499\n",
      "6544376     1    2609\n",
      "6544377     1    2636\n",
      "6544378     1    2637\n",
      "6544379     1    2638\n",
      "...       ...     ...\n",
      "2285810  9990    4344\n",
      "2285811  9990    4358\n",
      "2285812  9990    4485\n",
      "2285846  9990    5586\n",
      "2285915  9990    9934\n",
      "\n",
      "[7382338 rows x 2 columns]\n"
     ]
    }
   ],
   "source": [
    "df[\"id\"] = df[\"id\"].map(id_dict)\n",
    "\n",
    "\n",
    "df = df.sort_values(\"id\")\n",
    "\n",
    "print(df)\n",
    "\n"
   ]
  },
  {
   "cell_type": "code",
   "execution_count": 15,
   "metadata": {},
   "outputs": [],
   "source": [
    "df.to_csv(\"all_solved_id.csv\", index=False)"
   ]
  }
 ],
 "metadata": {
  "kernelspec": {
   "display_name": "torch",
   "language": "python",
   "name": "python3"
  },
  "language_info": {
   "codemirror_mode": {
    "name": "ipython",
    "version": 3
   },
   "file_extension": ".py",
   "mimetype": "text/x-python",
   "name": "python",
   "nbconvert_exporter": "python",
   "pygments_lexer": "ipython3",
   "version": "3.10.13"
  }
 },
 "nbformat": 4,
 "nbformat_minor": 2
}
