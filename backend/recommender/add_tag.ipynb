{
 "cells": [
  {
   "cell_type": "code",
   "execution_count": 1,
   "metadata": {},
   "outputs": [],
   "source": [
    "import pymysql\n",
    "\n",
    "connection = pymysql.connect(\n",
    "    \n",
    "    host='k10b203.p.ssafy.io',\n",
    "    user='b203',\n",
    "    password='b203203!',\n",
    "    db='algonote',\n",
    "    charset='utf8mb4',\n",
    "    cursorclass=pymysql.cursors.DictCursor\n",
    ")"
   ]
  },
  {
   "cell_type": "code",
   "execution_count": 2,
   "metadata": {},
   "outputs": [],
   "source": [
    "import pandas as pd\n",
    "df = pd.read_csv(\"./all_solved_id.csv\")"
   ]
  },
  {
   "cell_type": "code",
   "execution_count": 3,
   "metadata": {},
   "outputs": [
    {
     "name": "stdout",
     "output_type": "stream",
     "text": [
      "{'name_en': 'math'}\n",
      "{'name_en': 'implementation'}\n",
      "{'name_en': 'arithmetic'}\n"
     ]
    }
   ],
   "source": [
    "\n",
    "sql = \"select tag.name_en from problem join problem_tag on problem.id = problem_tag.problem_id join tag on problem_tag.tag_id = tag.id where problem.id = {0}\"\n",
    "with connection.cursor() as cursor:\n",
    "\n",
    "\n",
    "    cursor.execute(sql.format(1000))\n",
    "\n",
    "    result = cursor.fetchall()\n",
    "\n",
    "    for row in result:\n",
    "        print(row)\n",
    "\n"
   ]
  },
  {
   "cell_type": "code",
   "execution_count": 4,
   "metadata": {},
   "outputs": [
    {
     "data": {
      "text/html": [
       "<div>\n",
       "<style scoped>\n",
       "    .dataframe tbody tr th:only-of-type {\n",
       "        vertical-align: middle;\n",
       "    }\n",
       "\n",
       "    .dataframe tbody tr th {\n",
       "        vertical-align: top;\n",
       "    }\n",
       "\n",
       "    .dataframe thead th {\n",
       "        text-align: right;\n",
       "    }\n",
       "</style>\n",
       "<table border=\"1\" class=\"dataframe\">\n",
       "  <thead>\n",
       "    <tr style=\"text-align: right;\">\n",
       "      <th></th>\n",
       "      <th>memberId</th>\n",
       "      <th>problemId</th>\n",
       "      <th>tag</th>\n",
       "    </tr>\n",
       "  </thead>\n",
       "  <tbody>\n",
       "  </tbody>\n",
       "</table>\n",
       "</div>"
      ],
      "text/plain": [
       "Empty DataFrame\n",
       "Columns: [memberId, problemId, tag]\n",
       "Index: []"
      ]
     },
     "execution_count": 4,
     "metadata": {},
     "output_type": "execute_result"
    }
   ],
   "source": [
    "result_df = pd.DataFrame(columns=['memberId', 'problemId', 'tag'])\n",
    "result_df\n"
   ]
  },
  {
   "cell_type": "code",
   "execution_count": 12,
   "metadata": {},
   "outputs": [],
   "source": [
    "for idx, element in df.iterrows():\n",
    "    # print(idx, element)\n",
    "    with connection.cursor() as cursor:\n",
    "        \n",
    "        cursor.execute(sql.format(element['solved']))\n",
    "        result = cursor.fetchall()\n",
    "        for row in result:\n",
    "            # result_df = result_df.append({'memberId': row['id'], 'problemId': row['solved'], 'tag': row['name_en']}, ignore_index=True)\n",
    "            result_df = pd.concat([result_df, pd.DataFrame({'memberId': element['id'], 'problemId': element['solved'], 'tag': row['name_en']},index=[0])], ignore_index=True)\n",
    "\n",
    "\n",
    "\n",
    "result_df\n",
    "\n",
    "\n",
    "# for problemId in df['solved']:\n",
    "#    with connection.cursor() as cursor:\n",
    "#         cursor.execute(sql.format(problemId))\n",
    "#         result = cursor.fetchall()\n",
    "#         for row in result:\n",
    "#             result_df = result_df.append({'memberId': 'b203', 'problemId': problemId, 'tag': row['name_en']}, ignore_index=True) "
   ]
  },
  {
   "cell_type": "code",
   "execution_count": null,
   "metadata": {},
   "outputs": [],
   "source": []
  }
 ],
 "metadata": {
  "kernelspec": {
   "display_name": "torch",
   "language": "python",
   "name": "python3"
  },
  "language_info": {
   "codemirror_mode": {
    "name": "ipython",
    "version": 3
   },
   "file_extension": ".py",
   "mimetype": "text/x-python",
   "name": "python",
   "nbconvert_exporter": "python",
   "pygments_lexer": "ipython3",
   "version": "3.10.13"
  }
 },
 "nbformat": 4,
 "nbformat_minor": 2
}
