{
 "cells": [
  {
   "cell_type": "code",
   "execution_count": 1,
   "metadata": {},
   "outputs": [],
   "source": [
    "import pandas as pd"
   ]
  },
  {
   "cell_type": "code",
   "execution_count": 2,
   "metadata": {},
   "outputs": [],
   "source": [
    "from glob import glob\n",
    "import os\n",
    "import shutil\n",
    "\n",
    "files = glob(\"./divide/*.csv\")\n",
    "\n",
    "path = \"./Data/baekjoon/\"\n",
    "for file in files:\n",
    "    filename, ext = os.path.splitext(file)\n",
    "    filename = filename.split(\"/\")[-1][12:]\n",
    "    \n",
    "    folder_path = os.path.join(path, filename)\n",
    "\n",
    "    if(not os.path.exists(folder_path)):\n",
    "        os.makedirs(folder_path, exist_ok=True)\n",
    "    src = f\"./divide/data_{filename}.csv\"\n",
    "\n",
    "    shutil.copyfile(src, f\"{folder_path}/data_{filename}.csv\")"
   ]
  },
  {
   "cell_type": "code",
   "execution_count": 3,
   "metadata": {},
   "outputs": [
    {
     "name": "stdout",
     "output_type": "stream",
     "text": [
      "['./Data/baekjoon\\\\arithmetic', './Data/baekjoon\\\\backtracking', './Data/baekjoon\\\\bfs', './Data/baekjoon\\\\binary_search', './Data/baekjoon\\\\bitmask', './Data/baekjoon\\\\bruteforcing', './Data/baekjoon\\\\data_structures', './Data/baekjoon\\\\deque', './Data/baekjoon\\\\dfs', './Data/baekjoon\\\\dijkstra', './Data/baekjoon\\\\divide_and_conquer', './Data/baekjoon\\\\dp', './Data/baekjoon\\\\floyd_warshall', './Data/baekjoon\\\\graphs', './Data/baekjoon\\\\graph_traversal', './Data/baekjoon\\\\greedy', './Data/baekjoon\\\\hashing', './Data/baekjoon\\\\implementation', './Data/baekjoon\\\\kmp', './Data/baekjoon\\\\knapsack', './Data/baekjoon\\\\lca', './Data/baekjoon\\\\manacher', './Data/baekjoon\\\\math', './Data/baekjoon\\\\mst', './Data/baekjoon\\\\parametric_search', './Data/baekjoon\\\\prefix_sum', './Data/baekjoon\\\\primality_test', './Data/baekjoon\\\\priority_queue', './Data/baekjoon\\\\queue', './Data/baekjoon\\\\rabin_karp', './Data/baekjoon\\\\recursion', './Data/baekjoon\\\\segtree', './Data/baekjoon\\\\shortest_path', './Data/baekjoon\\\\sieve', './Data/baekjoon\\\\simulation', './Data/baekjoon\\\\sliding_window', './Data/baekjoon\\\\sorting', './Data/baekjoon\\\\stack', './Data/baekjoon\\\\string', './Data/baekjoon\\\\topological_sorting', './Data/baekjoon\\\\tree_set', './Data/baekjoon\\\\trie', './Data/baekjoon\\\\tsp', './Data/baekjoon\\\\two_pointer']\n"
     ]
    }
   ],
   "source": [
    "folders = glob(\"./Data/baekjoon/*\")\n",
    "print(folders)"
   ]
  },
  {
   "cell_type": "code",
   "execution_count": 4,
   "metadata": {},
   "outputs": [],
   "source": [
    "for folder in folders:\n",
    "    foldername = folder.split(\"/\")[-1].split(\"\\\\\")[-1]\n",
    "\n",
    "    # print(foldername)\n",
    "    csv = f\"data_{foldername}.csv\"\n",
    "    df = pd.read_csv(os.path.join(folder,csv))\n",
    "    # print(df.head(3))\n",
    "\n",
    "    result = df.groupby('memberId')[\"problemId\"].apply(list).to_dict()\n",
    "    dataset_path = os.path.join(folder, \"dataset.txt\")\n",
    "    with open(dataset_path, \"w\") as f:\n",
    "        for key, value in result.items():\n",
    "            f.write(f\"{key} \")\n",
    "            for problem in value[:-1]:\n",
    "                f.write(f\"{problem} \")\n",
    "            f.write(f\"{value[-1]}\")\n",
    "        \n",
    "            f.write(\"\\n\")\n"
   ]
  },
  {
   "cell_type": "code",
   "execution_count": null,
   "metadata": {},
   "outputs": [],
   "source": []
  }
 ],
 "metadata": {
  "kernelspec": {
   "display_name": "torch",
   "language": "python",
   "name": "python3"
  },
  "language_info": {
   "codemirror_mode": {
    "name": "ipython",
    "version": 3
   },
   "file_extension": ".py",
   "mimetype": "text/x-python",
   "name": "python",
   "nbconvert_exporter": "python",
   "pygments_lexer": "ipython3",
   "version": "3.10.13"
  }
 },
 "nbformat": 4,
 "nbformat_minor": 2
}
